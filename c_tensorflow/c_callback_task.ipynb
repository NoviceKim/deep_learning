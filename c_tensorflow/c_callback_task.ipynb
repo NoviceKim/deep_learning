{
 "cells": [
  {
   "cell_type": "markdown",
   "id": "7fadb4a8-edc2-410f-b814-686c3293d23d",
   "metadata": {},
   "source": [
    "### Callback API Task"
   ]
  },
  {
   "cell_type": "code",
   "execution_count": 1,
   "id": "a3f05b56-b4d3-4bfc-8a64-1744544aa9db",
   "metadata": {},
   "outputs": [
    {
     "name": "stdout",
     "output_type": "stream",
     "text": [
      "train dataset shape: (60000, 28, 28) (60000,)\n",
      "test dataset shape: (10000, 28, 28) (10000,)\n"
     ]
    }
   ],
   "source": [
    "from keras.datasets import mnist\n",
    "\n",
    "(train_images, train_labels), (test_images, test_labels) = mnist.load_data()\n",
    "print(\"train dataset shape:\", train_images.shape, train_labels.shape)\n",
    "print(\"test dataset shape:\", test_images.shape, test_labels.shape)"
   ]
  },
  {
   "cell_type": "code",
   "execution_count": 2,
   "id": "478afe34-c1dc-4843-8936-0cfd08536ba9",
   "metadata": {},
   "outputs": [
    {
     "data": {
      "image/png": "[encoded data removed]",
      "text/plain": [
       "<Figure size 640x480 with 1 Axes>"
      ]
     },
     "metadata": {},
     "output_type": "display_data"
    }
   ],
   "source": [
    "import matplotlib.pyplot as plt\n",
    "\n",
    "# train 이미지 중 하나 골라서 형태 시각화하고, 어느 분류에 속하는 지 확인(레이블 인코딩 된 결과)\n",
    "plt.imshow(train_images[2500], cmap='gray')\n",
    "plt.title(train_labels[2500])\n",
    "plt.show()"
   ]
  },
  {
   "cell_type": "code",
   "execution_count": 3,
   "id": "e37d066b-d8a0-4283-a12b-9ac5c0ae701e",
   "metadata": {},
   "outputs": [],
   "source": [
    "from tensorflow.keras.layers import Layer, Input, Flatten, Dense\n",
    "from tensorflow.keras.models import Model\n",
    "\n",
    "INPUT_SIZE = 28\n",
    "\n",
    "# 모델 생성 함수 선언\n",
    "def create_model():\n",
    "    input_tensor = Input(shape=(INPUT_SIZE, INPUT_SIZE))\n",
    "\n",
    "    x = Flatten()(input_tensor)\n",
    "\n",
    "    x = Dense(64, activation='relu')(x)\n",
    "    x = Dense(128, activation='relu')(x)\n",
    "\n",
    "    output = Dense(10, activation='softmax')(x)\n",
    "\n",
    "    model = Model(inputs=input_tensor, outputs=output)\n",
    "    \n",
    "    return model"
   ]
  },
  {
   "cell_type": "code",
   "execution_count": 4,
   "id": "692030fe-d38a-43cf-b15f-0131df9f6d04",
   "metadata": {},
   "outputs": [],
   "source": [
    "from tensorflow.keras.utils import to_categorical\n",
    "from sklearn.model_selection import train_test_split\n",
    "import numpy as np\n",
    "\n",
    "# images MinMaxScaling 함수 선언\n",
    "def get_preprocessed_data(images, targets):\n",
    "    images = np.array(images / 255.0, dtype=np.float32)\n",
    "    targets = np.array(targets, dtype=np.float32)\n",
    "\n",
    "    return images, targets\n",
    "\n",
    "# targets 원핫 인코딩 함수 선언 (+ images MinMaxScaling)\n",
    "def get_preprocessed_ohe(images, targets):\n",
    "    images, targets = get_preprocessed_data(images, targets)\n",
    "    oh_targets = to_categorical(targets)\n",
    "\n",
    "    return images, oh_targets\n",
    "\n",
    "# train 데이터에서 validation 데이터 분리하는 함수 선언 (+ images MinMaxScaling, targets 원핫 인코딩)\n",
    "def get_train_valid_test(train_images, train_targets, test_images, test_targets, validation_size=0.2, random_state=124):\n",
    "    train_images, train_oh_targets = get_preprocessed_ohe(train_images, train_targets)\n",
    "    test_images, test_oh_targets = get_preprocessed_ohe(test_images, test_targets)\n",
    "\n",
    "    train_images, validation_images, train_oh_targets, validation_oh_targets = \\\n",
    "    train_test_split(train_images, train_oh_targets, stratify=train_oh_targets, test_size=validation_size, random_state=random_state)\n",
    "\n",
    "    return (train_images, train_oh_targets), (validation_images, validation_oh_targets), (test_images, test_oh_targets)"
   ]
  },
  {
   "cell_type": "code",
   "execution_count": 5,
   "id": "b7376199-a385-4824-9d39-d24b80d93ebb",
   "metadata": {},
   "outputs": [
    {
     "name": "stdout",
     "output_type": "stream",
     "text": [
      "(48000, 28, 28) (48000, 10)\n",
      "(12000, 28, 28) (12000, 10)\n",
      "(10000, 28, 28) (10000, 10)\n"
     ]
    }
   ],
   "source": [
    "# 위에서 선언한 함수로 스케일링, 원핫 인코딩, validation 데이터 분리\n",
    "(train_images, train_oh_labels), (validation_images, validation_oh_labels), (test_images, test_oh_labels) = \\\n",
    "                                            get_train_valid_test(train_images, train_labels, test_images, test_labels)\n",
    "\n",
    "# train, validation, test 데이터 shape 출력\n",
    "print(train_images.shape, train_oh_labels.shape)\n",
    "print(validation_images.shape, validation_oh_labels.shape)\n",
    "print(test_images.shape, test_oh_labels.shape)"
   ]
  },
  {
   "cell_type": "markdown",
   "id": "ee6b0c63-2b69-46a5-84a6-6c3f12aa0f8c",
   "metadata": {},
   "source": [
    "#### ModelCheckpoint\n",
    "- save_best_only를 True로 설정해서 좋은 성능을 보인 일부 모델만 저장\n",
    "- 모니터링 기준은 validation 데이터 정확도 최대치"
   ]
  },
  {
   "cell_type": "code",
   "execution_count": 6,
   "id": "a6fb3a45-82ae-4c43-8270-55c74ccf6cc6",
   "metadata": {
    "scrolled": true
   },
   "outputs": [
    {
     "name": "stdout",
     "output_type": "stream",
     "text": [
      "Epoch 1/20\n",
      "\u001b[1m750/750\u001b[0m \u001b[32m━━━━━━━━━━━━━━━━━━━━\u001b[0m\u001b[37m\u001b[0m \u001b[1m2s\u001b[0m 2ms/step - acc: 0.8234 - loss: 0.6200 - val_acc: 0.9403 - val_loss: 0.1989\n",
      "Epoch 2/20\n",
      "\u001b[1m750/750\u001b[0m \u001b[32m━━━━━━━━━━━━━━━━━━━━\u001b[0m\u001b[37m\u001b[0m \u001b[1m1s\u001b[0m 1ms/step - acc: 0.9514 - loss: 0.1642 - val_acc: 0.9573 - val_loss: 0.1342\n",
      "Epoch 3/20\n",
      "\u001b[1m750/750\u001b[0m \u001b[32m━━━━━━━━━━━━━━━━━━━━\u001b[0m\u001b[37m\u001b[0m \u001b[1m1s\u001b[0m 1ms/step - acc: 0.9675 - loss: 0.1102 - val_acc: 0.9649 - val_loss: 0.1139\n",
      "Epoch 4/20\n",
      "\u001b[1m750/750\u001b[0m \u001b[32m━━━━━━━━━━━━━━━━━━━━\u001b[0m\u001b[37m\u001b[0m \u001b[1m1s\u001b[0m 1ms/step - acc: 0.9748 - loss: 0.0871 - val_acc: 0.9643 - val_loss: 0.1112\n",
      "Epoch 5/20\n",
      "\u001b[1m750/750\u001b[0m \u001b[32m━━━━━━━━━━━━━━━━━━━━\u001b[0m\u001b[37m\u001b[0m \u001b[1m1s\u001b[0m 1ms/step - acc: 0.9806 - loss: 0.0657 - val_acc: 0.9651 - val_loss: 0.1083\n",
      "Epoch 6/20\n",
      "\u001b[1m750/750\u001b[0m \u001b[32m━━━━━━━━━━━━━━━━━━━━\u001b[0m\u001b[37m\u001b[0m \u001b[1m1s\u001b[0m 1ms/step - acc: 0.9842 - loss: 0.0529 - val_acc: 0.9682 - val_loss: 0.0981\n",
      "Epoch 7/20\n",
      "\u001b[1m750/750\u001b[0m \u001b[32m━━━━━━━━━━━━━━━━━━━━\u001b[0m\u001b[37m\u001b[0m \u001b[1m1s\u001b[0m 1ms/step - acc: 0.9852 - loss: 0.0475 - val_acc: 0.9703 - val_loss: 0.0939\n",
      "Epoch 8/20\n",
      "\u001b[1m750/750\u001b[0m \u001b[32m━━━━━━━━━━━━━━━━━━━━\u001b[0m\u001b[37m\u001b[0m \u001b[1m1s\u001b[0m 1ms/step - acc: 0.9881 - loss: 0.0378 - val_acc: 0.9732 - val_loss: 0.0863\n",
      "Epoch 9/20\n",
      "\u001b[1m750/750\u001b[0m \u001b[32m━━━━━━━━━━━━━━━━━━━━\u001b[0m\u001b[37m\u001b[0m \u001b[1m1s\u001b[0m 1ms/step - acc: 0.9908 - loss: 0.0296 - val_acc: 0.9746 - val_loss: 0.0884\n",
      "Epoch 10/20\n",
      "\u001b[1m750/750\u001b[0m \u001b[32m━━━━━━━━━━━━━━━━━━━━\u001b[0m\u001b[37m\u001b[0m \u001b[1m1s\u001b[0m 1ms/step - acc: 0.9923 - loss: 0.0265 - val_acc: 0.9732 - val_loss: 0.0914\n",
      "Epoch 11/20\n",
      "\u001b[1m750/750\u001b[0m \u001b[32m━━━━━━━━━━━━━━━━━━━━\u001b[0m\u001b[37m\u001b[0m \u001b[1m1s\u001b[0m 1ms/step - acc: 0.9942 - loss: 0.0196 - val_acc: 0.9742 - val_loss: 0.0938\n",
      "Epoch 12/20\n",
      "\u001b[1m750/750\u001b[0m \u001b[32m━━━━━━━━━━━━━━━━━━━━\u001b[0m\u001b[37m\u001b[0m \u001b[1m1s\u001b[0m 1ms/step - acc: 0.9930 - loss: 0.0225 - val_acc: 0.9741 - val_loss: 0.0969\n",
      "Epoch 13/20\n",
      "\u001b[1m750/750\u001b[0m \u001b[32m━━━━━━━━━━━━━━━━━━━━\u001b[0m\u001b[37m\u001b[0m \u001b[1m1s\u001b[0m 1ms/step - acc: 0.9946 - loss: 0.0168 - val_acc: 0.9727 - val_loss: 0.1028\n",
      "Epoch 14/20\n",
      "\u001b[1m750/750\u001b[0m \u001b[32m━━━━━━━━━━━━━━━━━━━━\u001b[0m\u001b[37m\u001b[0m \u001b[1m1s\u001b[0m 1ms/step - acc: 0.9951 - loss: 0.0147 - val_acc: 0.9752 - val_loss: 0.1028\n",
      "Epoch 15/20\n",
      "\u001b[1m750/750\u001b[0m \u001b[32m━━━━━━━━━━━━━━━━━━━━\u001b[0m\u001b[37m\u001b[0m \u001b[1m1s\u001b[0m 1ms/step - acc: 0.9950 - loss: 0.0154 - val_acc: 0.9747 - val_loss: 0.1072\n",
      "Epoch 16/20\n",
      "\u001b[1m750/750\u001b[0m \u001b[32m━━━━━━━━━━━━━━━━━━━━\u001b[0m\u001b[37m\u001b[0m \u001b[1m1s\u001b[0m 1ms/step - acc: 0.9964 - loss: 0.0111 - val_acc: 0.9725 - val_loss: 0.1034\n",
      "Epoch 17/20\n",
      "\u001b[1m750/750\u001b[0m \u001b[32m━━━━━━━━━━━━━━━━━━━━\u001b[0m\u001b[37m\u001b[0m \u001b[1m1s\u001b[0m 1ms/step - acc: 0.9970 - loss: 0.0101 - val_acc: 0.9760 - val_loss: 0.1062\n",
      "Epoch 18/20\n",
      "\u001b[1m750/750\u001b[0m \u001b[32m━━━━━━━━━━━━━━━━━━━━\u001b[0m\u001b[37m\u001b[0m \u001b[1m1s\u001b[0m 1ms/step - acc: 0.9951 - loss: 0.0151 - val_acc: 0.9758 - val_loss: 0.1120\n",
      "Epoch 19/20\n",
      "\u001b[1m750/750\u001b[0m \u001b[32m━━━━━━━━━━━━━━━━━━━━\u001b[0m\u001b[37m\u001b[0m \u001b[1m1s\u001b[0m 1ms/step - acc: 0.9970 - loss: 0.0099 - val_acc: 0.9709 - val_loss: 0.1456\n",
      "Epoch 20/20\n",
      "\u001b[1m750/750\u001b[0m \u001b[32m━━━━━━━━━━━━━━━━━━━━\u001b[0m\u001b[37m\u001b[0m \u001b[1m1s\u001b[0m 1ms/step - acc: 0.9961 - loss: 0.0106 - val_acc: 0.9741 - val_loss: 0.1305\n"
     ]
    }
   ],
   "source": [
    "from tensorflow.keras.optimizers import Adam\n",
    "from tensorflow.keras.losses import CategoricalCrossentropy\n",
    "from tensorflow.keras.callbacks import ModelCheckpoint\n",
    "\n",
    "# 모델 컴파일링\n",
    "model = create_model()\n",
    "model.compile(optimizer=Adam(0.001), loss=CategoricalCrossentropy(), metrics=['acc'])\n",
    "\n",
    "# save_weights_only=False: 가중치가 아닌 모델을 저장 (확장자 .model.keras)\n",
    "mcp_cb = ModelCheckpoint(\n",
    "    filepath=\"./callback_files/model.{epoch:03d}-{val_loss:.4f}-{acc:.4f}.model.keras\",\n",
    "    monitor='val_acc',\n",
    "    save_best_only=True,\n",
    "    save_weights_only=False,\n",
    "    mode='max'\n",
    ")\n",
    "\n",
    "# 모델 훈련과 동시에 train, validation 데이터에 대한 정확도와 loss 이력 저장\n",
    "history = model.fit(x=train_images, \n",
    "                    y=train_oh_labels, \n",
    "                    batch_size=64, \n",
    "                    epochs=20, \n",
    "                    validation_data=(validation_images, validation_oh_labels), callbacks=[mcp_cb])"
   ]
  },
  {
   "cell_type": "markdown",
   "id": "e2c28555-aff8-4490-84f9-7e101a2210fc",
   "metadata": {},
   "source": [
    "#### 중간 분석\n",
    "- save_best_only를 True로 설정함에 따라, val_acc의 최대치가 갱신된 시점에만 모델 파일을 내보낸 것을 확인"
   ]
  },
  {
   "cell_type": "code",
   "execution_count": 7,
   "id": "a45adb51-708c-43b2-912d-7bc7766870d6",
   "metadata": {},
   "outputs": [
    {
     "name": "stdout",
     "output_type": "stream",
     "text": [
      "\u001b[1m313/313\u001b[0m \u001b[32m━━━━━━━━━━━━━━━━━━━━\u001b[0m\u001b[37m\u001b[0m \u001b[1m0s\u001b[0m 554us/step - acc: 0.9693 - loss: 0.1498\n"
     ]
    },
    {
     "data": {
      "text/plain": [
       "[0.12846389412879944, 0.9742000102996826]"
      ]
     },
     "execution_count": 7,
     "metadata": {},
     "output_type": "execute_result"
    }
   ],
   "source": [
    "# 현재 모델 성능 검증\n",
    "model.evaluate(test_images, test_oh_labels)"
   ]
  },
  {
   "cell_type": "code",
   "execution_count": 9,
   "id": "042413d2-0af4-45b4-b463-e04cf4e9665f",
   "metadata": {},
   "outputs": [
    {
     "name": "stdout",
     "output_type": "stream",
     "text": [
      "\u001b[1m313/313\u001b[0m \u001b[32m━━━━━━━━━━━━━━━━━━━━\u001b[0m\u001b[37m\u001b[0m \u001b[1m0s\u001b[0m 541us/step - acc: 0.9703 - loss: 0.1344\n"
     ]
    },
    {
     "data": {
      "text/plain": [
       "[0.1134599968791008, 0.9751999974250793]"
      ]
     },
     "execution_count": 9,
     "metadata": {},
     "output_type": "execute_result"
    }
   ],
   "source": [
    "from tensorflow.keras.models import load_model\n",
    "\n",
    "# 가장 val_acc를 보인 모델을 불러와서 위 모델과의 검증 결과 비교\n",
    "model = load_model('./callback_files/model.017-0.1062-0.9964.model.keras')\n",
    "model.evaluate(test_images, test_oh_labels)"
   ]
  },
  {
   "cell_type": "markdown",
   "id": "9df5c4d0-d89a-48af-8e77-69211ff05faa",
   "metadata": {},
   "source": [
    "#### 모델 분석\n",
    "- validation 데이터에 대한 정확도가 가장 높았던 17번째 epoch의 모델을 불러온 결과,  \n",
    "  epoch 20회를 모두 채운 모델보다 우수한 성능을 보이는 것을 확인"
   ]
  },
  {
   "cell_type": "markdown",
   "id": "39a925ee-ec08-4142-953a-332d8162ee4f",
   "metadata": {},
   "source": [
    "#### ReduceLROnPlateau\n",
    "- patience를 3으로 설정함에 따라 epoch 3회 동안 성능이 개선되지 않으면  \n",
    "  Learning Rate를 알아서 1/10으로 낮추도록 설정\n",
    "- 평가 기준은 위와 마찬가지로 val_acc의 최대치"
   ]
  },
  {
   "cell_type": "code",
   "execution_count": 10,
   "id": "7dd5ba40-076c-4c87-b74e-c5d5949ca82f",
   "metadata": {
    "scrolled": true
   },
   "outputs": [
    {
     "name": "stdout",
     "output_type": "stream",
     "text": [
      "Epoch 1/30\n",
      "\u001b[1m750/750\u001b[0m \u001b[32m━━━━━━━━━━━━━━━━━━━━\u001b[0m\u001b[37m\u001b[0m \u001b[1m2s\u001b[0m 1ms/step - acc: 0.8283 - loss: 0.6008 - val_acc: 0.9507 - val_loss: 0.1701 - learning_rate: 0.0010\n",
      "Epoch 2/30\n",
      "\u001b[1m750/750\u001b[0m \u001b[32m━━━━━━━━━━━━━━━━━━━━\u001b[0m\u001b[37m\u001b[0m \u001b[1m1s\u001b[0m 1ms/step - acc: 0.9541 - loss: 0.1533 - val_acc: 0.9627 - val_loss: 0.1273 - learning_rate: 0.0010\n",
      "Epoch 3/30\n",
      "\u001b[1m750/750\u001b[0m \u001b[32m━━━━━━━━━━━━━━━━━━━━\u001b[0m\u001b[37m\u001b[0m \u001b[1m1s\u001b[0m 1ms/step - acc: 0.9667 - loss: 0.1089 - val_acc: 0.9638 - val_loss: 0.1176 - learning_rate: 0.0010\n",
      "Epoch 4/30\n",
      "\u001b[1m750/750\u001b[0m \u001b[32m━━━━━━━━━━━━━━━━━━━━\u001b[0m\u001b[37m\u001b[0m \u001b[1m1s\u001b[0m 1ms/step - acc: 0.9732 - loss: 0.0859 - val_acc: 0.9684 - val_loss: 0.1029 - learning_rate: 0.0010\n",
      "Epoch 5/30\n",
      "\u001b[1m750/750\u001b[0m \u001b[32m━━━━━━━━━━━━━━━━━━━━\u001b[0m\u001b[37m\u001b[0m \u001b[1m1s\u001b[0m 1ms/step - acc: 0.9794 - loss: 0.0673 - val_acc: 0.9639 - val_loss: 0.1155 - learning_rate: 0.0010\n",
      "Epoch 6/30\n",
      "\u001b[1m750/750\u001b[0m \u001b[32m━━━━━━━━━━━━━━━━━━━━\u001b[0m\u001b[37m\u001b[0m \u001b[1m1s\u001b[0m 1ms/step - acc: 0.9825 - loss: 0.0566 - val_acc: 0.9641 - val_loss: 0.1117 - learning_rate: 0.0010\n",
      "Epoch 7/30\n",
      "\u001b[1m750/750\u001b[0m \u001b[32m━━━━━━━━━━━━━━━━━━━━\u001b[0m\u001b[37m\u001b[0m \u001b[1m1s\u001b[0m 1ms/step - acc: 0.9869 - loss: 0.0427 - val_acc: 0.9662 - val_loss: 0.1116 - learning_rate: 0.0010\n",
      "Epoch 8/30\n",
      "\u001b[1m750/750\u001b[0m \u001b[32m━━━━━━━━━━━━━━━━━━━━\u001b[0m\u001b[37m\u001b[0m \u001b[1m1s\u001b[0m 1ms/step - acc: 0.9926 - loss: 0.0283 - val_acc: 0.9726 - val_loss: 0.0842 - learning_rate: 1.0000e-04\n",
      "Epoch 9/30\n",
      "\u001b[1m750/750\u001b[0m \u001b[32m━━━━━━━━━━━━━━━━━━━━\u001b[0m\u001b[37m\u001b[0m \u001b[1m1s\u001b[0m 1ms/step - acc: 0.9934 - loss: 0.0230 - val_acc: 0.9749 - val_loss: 0.0830 - learning_rate: 1.0000e-04\n",
      "Epoch 10/30\n",
      "\u001b[1m750/750\u001b[0m \u001b[32m━━━━━━━━━━━━━━━━━━━━\u001b[0m\u001b[37m\u001b[0m \u001b[1m1s\u001b[0m 1ms/step - acc: 0.9951 - loss: 0.0201 - val_acc: 0.9736 - val_loss: 0.0824 - learning_rate: 1.0000e-04\n",
      "Epoch 11/30\n",
      "\u001b[1m750/750\u001b[0m \u001b[32m━━━━━━━━━━━━━━━━━━━━\u001b[0m\u001b[37m\u001b[0m \u001b[1m1s\u001b[0m 1ms/step - acc: 0.9957 - loss: 0.0182 - val_acc: 0.9737 - val_loss: 0.0832 - learning_rate: 1.0000e-04\n",
      "Epoch 12/30\n",
      "\u001b[1m750/750\u001b[0m \u001b[32m━━━━━━━━━━━━━━━━━━━━\u001b[0m\u001b[37m\u001b[0m \u001b[1m1s\u001b[0m 1ms/step - acc: 0.9960 - loss: 0.0173 - val_acc: 0.9743 - val_loss: 0.0826 - learning_rate: 1.0000e-04\n",
      "Epoch 13/30\n",
      "\u001b[1m750/750\u001b[0m \u001b[32m━━━━━━━━━━━━━━━━━━━━\u001b[0m\u001b[37m\u001b[0m \u001b[1m1s\u001b[0m 1ms/step - acc: 0.9971 - loss: 0.0156 - val_acc: 0.9746 - val_loss: 0.0817 - learning_rate: 1.0000e-05\n",
      "Epoch 14/30\n",
      "\u001b[1m750/750\u001b[0m \u001b[32m━━━━━━━━━━━━━━━━━━━━\u001b[0m\u001b[37m\u001b[0m \u001b[1m1s\u001b[0m 1ms/step - acc: 0.9971 - loss: 0.0148 - val_acc: 0.9742 - val_loss: 0.0817 - learning_rate: 1.0000e-05\n",
      "Epoch 15/30\n",
      "\u001b[1m750/750\u001b[0m \u001b[32m━━━━━━━━━━━━━━━━━━━━\u001b[0m\u001b[37m\u001b[0m \u001b[1m1s\u001b[0m 1ms/step - acc: 0.9972 - loss: 0.0148 - val_acc: 0.9746 - val_loss: 0.0820 - learning_rate: 1.0000e-05\n",
      "Epoch 16/30\n",
      "\u001b[1m750/750\u001b[0m \u001b[32m━━━━━━━━━━━━━━━━━━━━\u001b[0m\u001b[37m\u001b[0m \u001b[1m1s\u001b[0m 1ms/step - acc: 0.9973 - loss: 0.0147 - val_acc: 0.9746 - val_loss: 0.0819 - learning_rate: 1.0000e-06\n",
      "Epoch 17/30\n",
      "\u001b[1m750/750\u001b[0m \u001b[32m━━━━━━━━━━━━━━━━━━━━\u001b[0m\u001b[37m\u001b[0m \u001b[1m1s\u001b[0m 1ms/step - acc: 0.9974 - loss: 0.0142 - val_acc: 0.9743 - val_loss: 0.0819 - learning_rate: 1.0000e-06\n",
      "Epoch 18/30\n",
      "\u001b[1m750/750\u001b[0m \u001b[32m━━━━━━━━━━━━━━━━━━━━\u001b[0m\u001b[37m\u001b[0m \u001b[1m1s\u001b[0m 1ms/step - acc: 0.9974 - loss: 0.0136 - val_acc: 0.9742 - val_loss: 0.0819 - learning_rate: 1.0000e-06\n",
      "Epoch 19/30\n",
      "\u001b[1m750/750\u001b[0m \u001b[32m━━━━━━━━━━━━━━━━━━━━\u001b[0m\u001b[37m\u001b[0m \u001b[1m1s\u001b[0m 1ms/step - acc: 0.9978 - loss: 0.0134 - val_acc: 0.9742 - val_loss: 0.0819 - learning_rate: 1.0000e-07\n",
      "Epoch 20/30\n",
      "\u001b[1m750/750\u001b[0m \u001b[32m━━━━━━━━━━━━━━━━━━━━\u001b[0m\u001b[37m\u001b[0m \u001b[1m1s\u001b[0m 1ms/step - acc: 0.9967 - loss: 0.0151 - val_acc: 0.9742 - val_loss: 0.0819 - learning_rate: 1.0000e-07\n",
      "Epoch 21/30\n",
      "\u001b[1m750/750\u001b[0m \u001b[32m━━━━━━━━━━━━━━━━━━━━\u001b[0m\u001b[37m\u001b[0m \u001b[1m1s\u001b[0m 1ms/step - acc: 0.9976 - loss: 0.0137 - val_acc: 0.9742 - val_loss: 0.0819 - learning_rate: 1.0000e-07\n",
      "Epoch 22/30\n",
      "\u001b[1m750/750\u001b[0m \u001b[32m━━━━━━━━━━━━━━━━━━━━\u001b[0m\u001b[37m\u001b[0m \u001b[1m1s\u001b[0m 1ms/step - acc: 0.9977 - loss: 0.0130 - val_acc: 0.9742 - val_loss: 0.0819 - learning_rate: 1.0000e-08\n",
      "Epoch 23/30\n",
      "\u001b[1m750/750\u001b[0m \u001b[32m━━━━━━━━━━━━━━━━━━━━\u001b[0m\u001b[37m\u001b[0m \u001b[1m1s\u001b[0m 1ms/step - acc: 0.9974 - loss: 0.0135 - val_acc: 0.9742 - val_loss: 0.0819 - learning_rate: 1.0000e-08\n",
      "Epoch 24/30\n",
      "\u001b[1m750/750\u001b[0m \u001b[32m━━━━━━━━━━━━━━━━━━━━\u001b[0m\u001b[37m\u001b[0m \u001b[1m1s\u001b[0m 1ms/step - acc: 0.9972 - loss: 0.0141 - val_acc: 0.9742 - val_loss: 0.0819 - learning_rate: 1.0000e-08\n",
      "Epoch 25/30\n",
      "\u001b[1m750/750\u001b[0m \u001b[32m━━━━━━━━━━━━━━━━━━━━\u001b[0m\u001b[37m\u001b[0m \u001b[1m1s\u001b[0m 1ms/step - acc: 0.9971 - loss: 0.0150 - val_acc: 0.9742 - val_loss: 0.0819 - learning_rate: 1.0000e-09\n",
      "Epoch 26/30\n",
      "\u001b[1m750/750\u001b[0m \u001b[32m━━━━━━━━━━━━━━━━━━━━\u001b[0m\u001b[37m\u001b[0m \u001b[1m1s\u001b[0m 1ms/step - acc: 0.9974 - loss: 0.0137 - val_acc: 0.9742 - val_loss: 0.0819 - learning_rate: 1.0000e-09\n",
      "Epoch 27/30\n",
      "\u001b[1m750/750\u001b[0m \u001b[32m━━━━━━━━━━━━━━━━━━━━\u001b[0m\u001b[37m\u001b[0m \u001b[1m1s\u001b[0m 1ms/step - acc: 0.9970 - loss: 0.0147 - val_acc: 0.9742 - val_loss: 0.0819 - learning_rate: 1.0000e-09\n",
      "Epoch 28/30\n",
      "\u001b[1m750/750\u001b[0m \u001b[32m━━━━━━━━━━━━━━━━━━━━\u001b[0m\u001b[37m\u001b[0m \u001b[1m1s\u001b[0m 1ms/step - acc: 0.9974 - loss: 0.0142 - val_acc: 0.9742 - val_loss: 0.0819 - learning_rate: 1.0000e-10\n",
      "Epoch 29/30\n",
      "\u001b[1m750/750\u001b[0m \u001b[32m━━━━━━━━━━━━━━━━━━━━\u001b[0m\u001b[37m\u001b[0m \u001b[1m1s\u001b[0m 1ms/step - acc: 0.9972 - loss: 0.0144 - val_acc: 0.9742 - val_loss: 0.0819 - learning_rate: 1.0000e-10\n",
      "Epoch 30/30\n",
      "\u001b[1m750/750\u001b[0m \u001b[32m━━━━━━━━━━━━━━━━━━━━\u001b[0m\u001b[37m\u001b[0m \u001b[1m1s\u001b[0m 1ms/step - acc: 0.9979 - loss: 0.0127 - val_acc: 0.9742 - val_loss: 0.0819 - learning_rate: 1.0000e-10\n"
     ]
    }
   ],
   "source": [
    "from tensorflow.keras.optimizers import Adam\n",
    "from tensorflow.keras.losses import CategoricalCrossentropy\n",
    "from tensorflow.keras.callbacks import ReduceLROnPlateau\n",
    "\n",
    "# 모델 컴파일링\n",
    "model = create_model()\n",
    "model.compile(optimizer=Adam(0.001), loss=CategoricalCrossentropy(), metrics=['acc'])\n",
    "\n",
    "# callback (ReduceLROnPlateau) 선언\n",
    "rlr_cb = ReduceLROnPlateau(\n",
    "    monitor='val_acc',\n",
    "    factor=0.1,\n",
    "    patience=3,\n",
    "    mode='max'\n",
    ")\n",
    "\n",
    "# 모델 훈련과 동시에 train, validation 데이터에 대한 정확도와 loss 이력 저장\n",
    "history = model.fit(x=train_images, \n",
    "                    y=train_oh_labels, \n",
    "                    batch_size=64, \n",
    "                    epochs=30, \n",
    "                    validation_data=(validation_images, validation_oh_labels), callbacks=[rlr_cb])"
   ]
  },
  {
   "cell_type": "markdown",
   "id": "7ecb9f09-c3f3-468c-b9cd-3b709d180432",
   "metadata": {},
   "source": [
    "#### 중간 분석\n",
    "- 모니터링 지표인 val_acc가 epoch 3회 동안 개선되지 않았을 때, 다음 epoch에서 학습률이 1/10으로 줄어드는 것을 확인"
   ]
  },
  {
   "cell_type": "markdown",
   "id": "a39b63e4-f2de-4685-94a1-e6233c549b49",
   "metadata": {},
   "source": [
    "#### EarlyStopping\n",
    "- patience를 5로 설정함에 따라, epoch 5회 동안 성능이 개선되지 않으면 학습을 조기 종료\n",
    "- 평가 기준은 val_acc의 최대치"
   ]
  },
  {
   "cell_type": "code",
   "execution_count": 11,
   "id": "ea7dc6a9-4d6a-4fac-a363-9b07a120a745",
   "metadata": {},
   "outputs": [
    {
     "name": "stdout",
     "output_type": "stream",
     "text": [
      "Epoch 1/30\n",
      "\u001b[1m750/750\u001b[0m \u001b[32m━━━━━━━━━━━━━━━━━━━━\u001b[0m\u001b[37m\u001b[0m \u001b[1m2s\u001b[0m 1ms/step - acc: 0.8205 - loss: 0.6150 - val_acc: 0.9436 - val_loss: 0.1833\n",
      "Epoch 2/30\n",
      "\u001b[1m750/750\u001b[0m \u001b[32m━━━━━━━━━━━━━━━━━━━━\u001b[0m\u001b[37m\u001b[0m \u001b[1m1s\u001b[0m 1ms/step - acc: 0.9553 - loss: 0.1507 - val_acc: 0.9542 - val_loss: 0.1416\n",
      "Epoch 3/30\n",
      "\u001b[1m750/750\u001b[0m \u001b[32m━━━━━━━━━━━━━━━━━━━━\u001b[0m\u001b[37m\u001b[0m \u001b[1m1s\u001b[0m 1ms/step - acc: 0.9672 - loss: 0.1110 - val_acc: 0.9635 - val_loss: 0.1166\n",
      "Epoch 4/30\n",
      "\u001b[1m750/750\u001b[0m \u001b[32m━━━━━━━━━━━━━━━━━━━━\u001b[0m\u001b[37m\u001b[0m \u001b[1m1s\u001b[0m 1ms/step - acc: 0.9763 - loss: 0.0825 - val_acc: 0.9649 - val_loss: 0.1138\n",
      "Epoch 5/30\n",
      "\u001b[1m750/750\u001b[0m \u001b[32m━━━━━━━━━━━━━━━━━━━━\u001b[0m\u001b[37m\u001b[0m \u001b[1m1s\u001b[0m 1ms/step - acc: 0.9808 - loss: 0.0661 - val_acc: 0.9693 - val_loss: 0.1002\n",
      "Epoch 6/30\n",
      "\u001b[1m750/750\u001b[0m \u001b[32m━━━━━━━━━━━━━━━━━━━━\u001b[0m\u001b[37m\u001b[0m \u001b[1m1s\u001b[0m 1ms/step - acc: 0.9832 - loss: 0.0551 - val_acc: 0.9707 - val_loss: 0.0994\n",
      "Epoch 7/30\n",
      "\u001b[1m750/750\u001b[0m \u001b[32m━━━━━━━━━━━━━━━━━━━━\u001b[0m\u001b[37m\u001b[0m \u001b[1m1s\u001b[0m 1ms/step - acc: 0.9866 - loss: 0.0461 - val_acc: 0.9743 - val_loss: 0.0903\n",
      "Epoch 8/30\n",
      "\u001b[1m750/750\u001b[0m \u001b[32m━━━━━━━━━━━━━━━━━━━━\u001b[0m\u001b[37m\u001b[0m \u001b[1m1s\u001b[0m 1ms/step - acc: 0.9885 - loss: 0.0376 - val_acc: 0.9713 - val_loss: 0.0960\n",
      "Epoch 9/30\n",
      "\u001b[1m750/750\u001b[0m \u001b[32m━━━━━━━━━━━━━━━━━━━━\u001b[0m\u001b[37m\u001b[0m \u001b[1m1s\u001b[0m 1ms/step - acc: 0.9902 - loss: 0.0305 - val_acc: 0.9710 - val_loss: 0.1023\n",
      "Epoch 10/30\n",
      "\u001b[1m750/750\u001b[0m \u001b[32m━━━━━━━━━━━━━━━━━━━━\u001b[0m\u001b[37m\u001b[0m \u001b[1m1s\u001b[0m 1ms/step - acc: 0.9922 - loss: 0.0254 - val_acc: 0.9732 - val_loss: 0.1003\n",
      "Epoch 11/30\n",
      "\u001b[1m750/750\u001b[0m \u001b[32m━━━━━━━━━━━━━━━━━━━━\u001b[0m\u001b[37m\u001b[0m \u001b[1m1s\u001b[0m 1ms/step - acc: 0.9919 - loss: 0.0258 - val_acc: 0.9647 - val_loss: 0.1262\n",
      "Epoch 12/30\n",
      "\u001b[1m750/750\u001b[0m \u001b[32m━━━━━━━━━━━━━━━━━━━━\u001b[0m\u001b[37m\u001b[0m \u001b[1m1s\u001b[0m 1ms/step - acc: 0.9932 - loss: 0.0217 - val_acc: 0.9728 - val_loss: 0.1068\n"
     ]
    }
   ],
   "source": [
    "from tensorflow.keras.optimizers import Adam\n",
    "from tensorflow.keras.losses import CategoricalCrossentropy\n",
    "from tensorflow.keras.callbacks import EarlyStopping\n",
    "\n",
    "# 모델 컴파일링\n",
    "model = create_model()\n",
    "model.compile(optimizer=Adam(0.001), loss=CategoricalCrossentropy(), metrics=['acc'])\n",
    "\n",
    "# callback (EarlyStopping) 선언\n",
    "ely_cb = EarlyStopping(\n",
    "    monitor='val_acc',\n",
    "    patience=5,\n",
    "    mode='max'\n",
    ")\n",
    "\n",
    "# 모델 훈련과 동시에 train, validation 데이터에 대한 정확도와 loss 이력 저장\n",
    "history = model.fit(x=train_images, \n",
    "                    y=train_oh_labels, \n",
    "                    batch_size=64, \n",
    "                    epochs=30, \n",
    "                    validation_data=(validation_images, validation_oh_labels), callbacks=[ely_cb])"
   ]
  },
  {
   "cell_type": "markdown",
   "id": "f503869b-7348-48b1-a3df-066d0c7e7149",
   "metadata": {},
   "source": [
    "#### 중간 분석\n",
    "- 7번째 epoch에서 val_acc가 최대치를 달성한 이후 5번의 epoch 동안 val_acc의 최대치 갱신이 없었기 때문에  \n",
    "  총 30번의 epoch 중 12번째 epoch에서 학습을 조기 종료함"
   ]
  },
  {
   "cell_type": "markdown",
   "id": "c49c0f0f-b2dd-411b-ab15-3786b2df0497",
   "metadata": {},
   "source": [
    "#### Callback API 종합\n",
    "- 위에서 테스트한 모든 Callback API를 동시에 사용\n",
    "- epoch는 30번으로 설정했으며, 파라미터 값은 그대로"
   ]
  },
  {
   "cell_type": "code",
   "execution_count": 12,
   "id": "7a6c6950-3fd5-4e0a-9d9a-0d697c7b73f5",
   "metadata": {
    "scrolled": true
   },
   "outputs": [
    {
     "name": "stdout",
     "output_type": "stream",
     "text": [
      "Epoch 1/30\n",
      "\u001b[1m750/750\u001b[0m \u001b[32m━━━━━━━━━━━━━━━━━━━━\u001b[0m\u001b[37m\u001b[0m \u001b[1m2s\u001b[0m 1ms/step - acc: 0.8277 - loss: 0.6049 - val_acc: 0.9416 - val_loss: 0.1952 - learning_rate: 0.0010\n",
      "Epoch 2/30\n",
      "\u001b[1m750/750\u001b[0m \u001b[32m━━━━━━━━━━━━━━━━━━━━\u001b[0m\u001b[37m\u001b[0m \u001b[1m1s\u001b[0m 1ms/step - acc: 0.9535 - loss: 0.1600 - val_acc: 0.9545 - val_loss: 0.1461 - learning_rate: 0.0010\n",
      "Epoch 3/30\n",
      "\u001b[1m750/750\u001b[0m \u001b[32m━━━━━━━━━━━━━━━━━━━━\u001b[0m\u001b[37m\u001b[0m \u001b[1m1s\u001b[0m 1ms/step - acc: 0.9694 - loss: 0.1048 - val_acc: 0.9631 - val_loss: 0.1169 - learning_rate: 0.0010\n",
      "Epoch 4/30\n",
      "\u001b[1m750/750\u001b[0m \u001b[32m━━━━━━━━━━━━━━━━━━━━\u001b[0m\u001b[37m\u001b[0m \u001b[1m1s\u001b[0m 1ms/step - acc: 0.9763 - loss: 0.0787 - val_acc: 0.9686 - val_loss: 0.1026 - learning_rate: 0.0010\n",
      "Epoch 5/30\n",
      "\u001b[1m750/750\u001b[0m \u001b[32m━━━━━━━━━━━━━━━━━━━━\u001b[0m\u001b[37m\u001b[0m \u001b[1m1s\u001b[0m 1ms/step - acc: 0.9805 - loss: 0.0647 - val_acc: 0.9718 - val_loss: 0.0949 - learning_rate: 0.0010\n",
      "Epoch 6/30\n",
      "\u001b[1m750/750\u001b[0m \u001b[32m━━━━━━━━━━━━━━━━━━━━\u001b[0m\u001b[37m\u001b[0m \u001b[1m1s\u001b[0m 1ms/step - acc: 0.9844 - loss: 0.0489 - val_acc: 0.9711 - val_loss: 0.0945 - learning_rate: 0.0010\n",
      "Epoch 7/30\n",
      "\u001b[1m750/750\u001b[0m \u001b[32m━━━━━━━━━━━━━━━━━━━━\u001b[0m\u001b[37m\u001b[0m \u001b[1m1s\u001b[0m 1ms/step - acc: 0.9873 - loss: 0.0405 - val_acc: 0.9693 - val_loss: 0.1056 - learning_rate: 0.0010\n",
      "Epoch 8/30\n",
      "\u001b[1m750/750\u001b[0m \u001b[32m━━━━━━━━━━━━━━━━━━━━\u001b[0m\u001b[37m\u001b[0m \u001b[1m1s\u001b[0m 1ms/step - acc: 0.9886 - loss: 0.0362 - val_acc: 0.9712 - val_loss: 0.0986 - learning_rate: 0.0010\n",
      "Epoch 9/30\n",
      "\u001b[1m750/750\u001b[0m \u001b[32m━━━━━━━━━━━━━━━━━━━━\u001b[0m\u001b[37m\u001b[0m \u001b[1m1s\u001b[0m 1ms/step - acc: 0.9943 - loss: 0.0210 - val_acc: 0.9778 - val_loss: 0.0805 - learning_rate: 1.0000e-04\n",
      "Epoch 10/30\n",
      "\u001b[1m750/750\u001b[0m \u001b[32m━━━━━━━━━━━━━━━━━━━━\u001b[0m\u001b[37m\u001b[0m \u001b[1m1s\u001b[0m 1ms/step - acc: 0.9969 - loss: 0.0147 - val_acc: 0.9780 - val_loss: 0.0793 - learning_rate: 1.0000e-04\n",
      "Epoch 11/30\n",
      "\u001b[1m750/750\u001b[0m \u001b[32m━━━━━━━━━━━━━━━━━━━━\u001b[0m\u001b[37m\u001b[0m \u001b[1m1s\u001b[0m 1ms/step - acc: 0.9975 - loss: 0.0134 - val_acc: 0.9775 - val_loss: 0.0797 - learning_rate: 1.0000e-04\n",
      "Epoch 12/30\n",
      "\u001b[1m750/750\u001b[0m \u001b[32m━━━━━━━━━━━━━━━━━━━━\u001b[0m\u001b[37m\u001b[0m \u001b[1m1s\u001b[0m 1ms/step - acc: 0.9977 - loss: 0.0116 - val_acc: 0.9779 - val_loss: 0.0798 - learning_rate: 1.0000e-04\n",
      "Epoch 13/30\n",
      "\u001b[1m750/750\u001b[0m \u001b[32m━━━━━━━━━━━━━━━━━━━━\u001b[0m\u001b[37m\u001b[0m \u001b[1m1s\u001b[0m 1ms/step - acc: 0.9980 - loss: 0.0112 - val_acc: 0.9787 - val_loss: 0.0800 - learning_rate: 1.0000e-04\n",
      "Epoch 14/30\n",
      "\u001b[1m750/750\u001b[0m \u001b[32m━━━━━━━━━━━━━━━━━━━━\u001b[0m\u001b[37m\u001b[0m \u001b[1m1s\u001b[0m 1ms/step - acc: 0.9985 - loss: 0.0095 - val_acc: 0.9776 - val_loss: 0.0825 - learning_rate: 1.0000e-04\n",
      "Epoch 15/30\n",
      "\u001b[1m750/750\u001b[0m \u001b[32m━━━━━━━━━━━━━━━━━━━━\u001b[0m\u001b[37m\u001b[0m \u001b[1m1s\u001b[0m 1ms/step - acc: 0.9985 - loss: 0.0095 - val_acc: 0.9784 - val_loss: 0.0819 - learning_rate: 1.0000e-04\n",
      "Epoch 16/30\n",
      "\u001b[1m750/750\u001b[0m \u001b[32m━━━━━━━━━━━━━━━━━━━━\u001b[0m\u001b[37m\u001b[0m \u001b[1m1s\u001b[0m 1ms/step - acc: 0.9987 - loss: 0.0089 - val_acc: 0.9785 - val_loss: 0.0826 - learning_rate: 1.0000e-04\n",
      "Epoch 17/30\n",
      "\u001b[1m750/750\u001b[0m \u001b[32m━━━━━━━━━━━━━━━━━━━━\u001b[0m\u001b[37m\u001b[0m \u001b[1m1s\u001b[0m 1ms/step - acc: 0.9991 - loss: 0.0076 - val_acc: 0.9787 - val_loss: 0.0823 - learning_rate: 1.0000e-05\n",
      "Epoch 18/30\n",
      "\u001b[1m750/750\u001b[0m \u001b[32m━━━━━━━━━━━━━━━━━━━━\u001b[0m\u001b[37m\u001b[0m \u001b[1m1s\u001b[0m 1ms/step - acc: 0.9990 - loss: 0.0076 - val_acc: 0.9787 - val_loss: 0.0823 - learning_rate: 1.0000e-05\n"
     ]
    }
   ],
   "source": [
    "from tensorflow.keras.optimizers import Adam\n",
    "from tensorflow.keras.losses import CategoricalCrossentropy\n",
    "from tensorflow.keras.callbacks import ModelCheckpoint\n",
    "\n",
    "# 모델 컴파일링\n",
    "model = create_model()\n",
    "model.compile(optimizer=Adam(0.001), loss=CategoricalCrossentropy(), metrics=['acc'])\n",
    "\n",
    "# callback (ModelCheckpoint) 선언\n",
    "mcp_cb = ModelCheckpoint(\n",
    "    filepath=\"./callback_files/model.{epoch:03d}-{val_loss:.4f}-{acc:.4f}.model.keras\",\n",
    "    monitor='val_acc',\n",
    "    save_best_only=True,\n",
    "    save_weights_only=False,\n",
    "    mode='max'\n",
    ")\n",
    "\n",
    "# callback (ReduceLROnPlateau) 선언\n",
    "rlr_cb = ReduceLROnPlateau(\n",
    "    monitor='val_acc',\n",
    "    factor=0.1,\n",
    "    patience=3,\n",
    "    mode='max'\n",
    ")\n",
    "\n",
    "# callback (EarlyStopping) 선언\n",
    "ely_cb = EarlyStopping(\n",
    "    monitor='val_acc',\n",
    "    patience=5,\n",
    "    mode='max'\n",
    ")\n",
    "\n",
    "# 모델 훈련과 동시에 train, validation 데이터에 대한 정확도와 loss 이력 저장\n",
    "history = model.fit(x=train_images, \n",
    "                    y=train_oh_labels, \n",
    "                    batch_size=64, \n",
    "                    epochs=30, \n",
    "                    validation_data=(validation_images, validation_oh_labels), callbacks=[mcp_cb, rlr_cb, ely_cb])"
   ]
  },
  {
   "cell_type": "markdown",
   "id": "13fe3d4b-2b9a-4668-8693-fc090f519c5d",
   "metadata": {},
   "source": [
    "#### 중간 분석\n",
    "- 13번째 epoch 이후 epoch 5회 동안 val_acc의 최대치 갱신이 없었기 때문에 18번째 epoch에서 학습이 조기 종료됨\n",
    "- 또한 성능이 갱신되었을 때만 파일을 내보냈기 때문에 13번째 epoch의 파일이 가장 고성능의 모델을 가지고 있음"
   ]
  },
  {
   "cell_type": "code",
   "execution_count": 13,
   "id": "6cd56d95-f446-48e7-8e13-dd213d87acec",
   "metadata": {},
   "outputs": [
    {
     "name": "stdout",
     "output_type": "stream",
     "text": [
      "\u001b[1m313/313\u001b[0m \u001b[32m━━━━━━━━━━━━━━━━━━━━\u001b[0m\u001b[37m\u001b[0m \u001b[1m0s\u001b[0m 554us/step - acc: 0.9743 - loss: 0.0828\n"
     ]
    },
    {
     "data": {
      "text/plain": [
       "[0.07249525934457779, 0.978600025177002]"
      ]
     },
     "execution_count": 13,
     "metadata": {},
     "output_type": "execute_result"
    }
   ],
   "source": [
    "from tensorflow.keras.models import load_model\n",
    "\n",
    "# 가장 val_acc를 보인 모델을 불러와서 위 모델과의 검증 결과 비교\n",
    "model = load_model('./callback_files/model.013-0.0800-0.9979.model.keras')\n",
    "model.evaluate(test_images, test_oh_labels)"
   ]
  }
 ],
 "metadata": {
  "kernelspec": {
   "display_name": "Python 3 (ipykernel)",
   "language": "python",
   "name": "python3"
  },
  "language_info": {
   "codemirror_mode": {
    "name": "ipython",
    "version": 3
   },
   "file_extension": ".py",
   "mimetype": "text/x-python",
   "name": "python",
   "nbconvert_exporter": "python",
   "pygments_lexer": "ipython3",
   "version": "3.11.8"
  }
 },
 "nbformat": 4,
 "nbformat_minor": 5
}
